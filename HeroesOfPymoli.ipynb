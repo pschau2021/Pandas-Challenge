{
 "cells": [
  {
   "cell_type": "markdown",
   "metadata": {},
   "source": [
    "### Note\n",
    "* Instructions have been included for each segment. You do not have to follow them exactly, but they are included to help you think through the steps."
   ]
  },
  {
   "cell_type": "code",
   "execution_count": 1,
   "metadata": {},
   "outputs": [
    {
     "data": {
      "text/html": [
       "<div>\n",
       "<style scoped>\n",
       "    .dataframe tbody tr th:only-of-type {\n",
       "        vertical-align: middle;\n",
       "    }\n",
       "\n",
       "    .dataframe tbody tr th {\n",
       "        vertical-align: top;\n",
       "    }\n",
       "\n",
       "    .dataframe thead th {\n",
       "        text-align: right;\n",
       "    }\n",
       "</style>\n",
       "<table border=\"1\" class=\"dataframe\">\n",
       "  <thead>\n",
       "    <tr style=\"text-align: right;\">\n",
       "      <th></th>\n",
       "      <th>Purchase ID</th>\n",
       "      <th>SN</th>\n",
       "      <th>Age</th>\n",
       "      <th>Gender</th>\n",
       "      <th>Item ID</th>\n",
       "      <th>Item Name</th>\n",
       "      <th>Price</th>\n",
       "    </tr>\n",
       "  </thead>\n",
       "  <tbody>\n",
       "    <tr>\n",
       "      <th>0</th>\n",
       "      <td>0</td>\n",
       "      <td>Lisim78</td>\n",
       "      <td>20</td>\n",
       "      <td>Male</td>\n",
       "      <td>108</td>\n",
       "      <td>Extraction, Quickblade Of Trembling Hands</td>\n",
       "      <td>3.53</td>\n",
       "    </tr>\n",
       "    <tr>\n",
       "      <th>1</th>\n",
       "      <td>1</td>\n",
       "      <td>Lisovynya38</td>\n",
       "      <td>40</td>\n",
       "      <td>Male</td>\n",
       "      <td>143</td>\n",
       "      <td>Frenzied Scimitar</td>\n",
       "      <td>1.56</td>\n",
       "    </tr>\n",
       "    <tr>\n",
       "      <th>2</th>\n",
       "      <td>2</td>\n",
       "      <td>Ithergue48</td>\n",
       "      <td>24</td>\n",
       "      <td>Male</td>\n",
       "      <td>92</td>\n",
       "      <td>Final Critic</td>\n",
       "      <td>4.88</td>\n",
       "    </tr>\n",
       "    <tr>\n",
       "      <th>3</th>\n",
       "      <td>3</td>\n",
       "      <td>Chamassasya86</td>\n",
       "      <td>24</td>\n",
       "      <td>Male</td>\n",
       "      <td>100</td>\n",
       "      <td>Blindscythe</td>\n",
       "      <td>3.27</td>\n",
       "    </tr>\n",
       "    <tr>\n",
       "      <th>4</th>\n",
       "      <td>4</td>\n",
       "      <td>Iskosia90</td>\n",
       "      <td>23</td>\n",
       "      <td>Male</td>\n",
       "      <td>131</td>\n",
       "      <td>Fury</td>\n",
       "      <td>1.44</td>\n",
       "    </tr>\n",
       "  </tbody>\n",
       "</table>\n",
       "</div>"
      ],
      "text/plain": [
       "   Purchase ID             SN  Age Gender  Item ID  \\\n",
       "0            0        Lisim78   20   Male      108   \n",
       "1            1    Lisovynya38   40   Male      143   \n",
       "2            2     Ithergue48   24   Male       92   \n",
       "3            3  Chamassasya86   24   Male      100   \n",
       "4            4      Iskosia90   23   Male      131   \n",
       "\n",
       "                                   Item Name  Price  \n",
       "0  Extraction, Quickblade Of Trembling Hands   3.53  \n",
       "1                          Frenzied Scimitar   1.56  \n",
       "2                               Final Critic   4.88  \n",
       "3                                Blindscythe   3.27  \n",
       "4                                       Fury   1.44  "
      ]
     },
     "execution_count": 1,
     "metadata": {},
     "output_type": "execute_result"
    }
   ],
   "source": [
    "# Dependencies & Setup\n",
    "import pandas as pd\n",
    "import numpy as np \n",
    "\n",
    "# File to Load (Remember to Change These)\n",
    "purchase_data_file = 'C:/Users/Owner/Desktop/Pandas-challenge/Resources/purchase_data.csv'\n",
    "\n",
    "# Read File & Store\n",
    "purchase_data_df = pd.read_csv(purchase_data_file)\n",
    "\n",
    "# Clean Rows with Missing Data\n",
    "purchase_data_df.count()\n",
    "cleaned_data_df = purchase_data_df.dropna(how='any')\n",
    "cleaned_data_df.count()\n",
    "purchase_data_df.head()"
   ]
  },
  {
   "cell_type": "markdown",
   "metadata": {},
   "source": [
    "* Display the total number of players\n"
   ]
  },
  {
   "cell_type": "code",
   "execution_count": 2,
   "metadata": {},
   "outputs": [
    {
     "data": {
      "text/html": [
       "<div>\n",
       "<style scoped>\n",
       "    .dataframe tbody tr th:only-of-type {\n",
       "        vertical-align: middle;\n",
       "    }\n",
       "\n",
       "    .dataframe tbody tr th {\n",
       "        vertical-align: top;\n",
       "    }\n",
       "\n",
       "    .dataframe thead th {\n",
       "        text-align: right;\n",
       "    }\n",
       "</style>\n",
       "<table border=\"1\" class=\"dataframe\">\n",
       "  <thead>\n",
       "    <tr style=\"text-align: right;\">\n",
       "      <th></th>\n",
       "      <th>Total Players</th>\n",
       "    </tr>\n",
       "  </thead>\n",
       "  <tbody>\n",
       "    <tr>\n",
       "      <th>0</th>\n",
       "      <td>576</td>\n",
       "    </tr>\n",
       "  </tbody>\n",
       "</table>\n",
       "</div>"
      ],
      "text/plain": [
       "   Total Players\n",
       "0            576"
      ]
     },
     "execution_count": 2,
     "metadata": {},
     "output_type": "execute_result"
    }
   ],
   "source": [
    "# Calculate Total Player Count \n",
    "total_players = len(purchase_data_df['SN'].value_counts())\n",
    "\n",
    "# Display Data Frame Summary\n",
    "player_count = pd.DataFrame({'Total Players': [total_players]}) \n",
    "player_count"
   ]
  },
  {
   "cell_type": "markdown",
   "metadata": {},
   "source": [
    "# Purchasing Analysis (Total)"
   ]
  },
  {
   "cell_type": "markdown",
   "metadata": {},
   "source": [
    "* Run basic calculations to obtain number of unique items, average price, etc.\n",
    "\n",
    "\n",
    "* Create a summary data frame to hold the results\n",
    "\n",
    "\n",
    "* Optional: give the displayed data cleaner formatting\n",
    "\n",
    "\n",
    "* Display the summary data frame\n"
   ]
  },
  {
   "cell_type": "code",
   "execution_count": 3,
   "metadata": {},
   "outputs": [
    {
     "data": {
      "text/html": [
       "<style  type=\"text/css\" >\n",
       "</style><table id=\"T_84294866_be87_11eb_ac44_d6c105df1562\" ><thead>    <tr>        <th class=\"blank level0\" ></th>        <th class=\"col_heading level0 col0\" >Number of Unique Items</th>        <th class=\"col_heading level0 col1\" >Average Price</th>        <th class=\"col_heading level0 col2\" >Total Number of Purchases</th>        <th class=\"col_heading level0 col3\" >Total Revenue</th>    </tr></thead><tbody>\n",
       "                <tr>\n",
       "                        <th id=\"T_84294866_be87_11eb_ac44_d6c105df1562level0_row0\" class=\"row_heading level0 row0\" >0</th>\n",
       "                        <td id=\"T_84294866_be87_11eb_ac44_d6c105df1562row0_col0\" class=\"data row0 col0\" >179</td>\n",
       "                        <td id=\"T_84294866_be87_11eb_ac44_d6c105df1562row0_col1\" class=\"data row0 col1\" >$3.05</td>\n",
       "                        <td id=\"T_84294866_be87_11eb_ac44_d6c105df1562row0_col2\" class=\"data row0 col2\" >780</td>\n",
       "                        <td id=\"T_84294866_be87_11eb_ac44_d6c105df1562row0_col3\" class=\"data row0 col3\" >$2,379.77</td>\n",
       "            </tr>\n",
       "    </tbody></table>"
      ],
      "text/plain": [
       "<pandas.io.formats.style.Styler at 0x1f480237070>"
      ]
     },
     "execution_count": 3,
     "metadata": {},
     "output_type": "execute_result"
    }
   ],
   "source": [
    "# Calculate Number of Unique Items\n",
    "unique_items = len(purchase_data_df['Item ID'].unique())\n",
    "\n",
    "# Calculate Average Price\n",
    "mean_price = (purchase_data_df['Price'].mean())\n",
    "\n",
    "# Calculate Total Number of Purchases\n",
    "total_purchases = (purchase_data_df['Purchase ID'].count())\n",
    "\n",
    "# Calculate Total Revenue\n",
    "total_revenue = (purchase_data_df['Price'].sum())\n",
    "\n",
    "# Display Data Frame Summary\n",
    "purchasing_analysis_df = pd.DataFrame({'Number of Unique Items': [unique_items],\n",
    "                                      'Average Price': [mean_price],\n",
    "                                      'Total Number of Purchases': [total_purchases],\n",
    "                                        'Total Revenue': [total_revenue]})\n",
    "purchasing_analysis_df\n",
    "\n",
    "# Format Price & Round\n",
    "purchasing_analysis_df.style.format({'Average Price': '${:,.2f}',\n",
    "                                    'Total Revenue': '${:,.2f}'})"
   ]
  },
  {
   "cell_type": "markdown",
   "metadata": {},
   "source": [
    "## Gender Demographics"
   ]
  },
  {
   "cell_type": "markdown",
   "metadata": {},
   "source": [
    "* Percentage and Count of Male Players\n",
    "\n",
    "\n",
    "* Percentage and Count of Female Players\n",
    "\n",
    "\n",
    "* Percentage and Count of Other / Non-Disclosed\n",
    "\n",
    "\n"
   ]
  },
  {
   "cell_type": "code",
   "execution_count": 4,
   "metadata": {},
   "outputs": [
    {
     "data": {
      "text/html": [
       "<div>\n",
       "<style scoped>\n",
       "    .dataframe tbody tr th:only-of-type {\n",
       "        vertical-align: middle;\n",
       "    }\n",
       "\n",
       "    .dataframe tbody tr th {\n",
       "        vertical-align: top;\n",
       "    }\n",
       "\n",
       "    .dataframe thead th {\n",
       "        text-align: right;\n",
       "    }\n",
       "</style>\n",
       "<table border=\"1\" class=\"dataframe\">\n",
       "  <thead>\n",
       "    <tr style=\"text-align: right;\">\n",
       "      <th></th>\n",
       "      <th>Percent</th>\n",
       "      <th>Count of Gender</th>\n",
       "    </tr>\n",
       "  </thead>\n",
       "  <tbody>\n",
       "    <tr>\n",
       "      <th>Female</th>\n",
       "      <td>14.062500</td>\n",
       "      <td>81</td>\n",
       "    </tr>\n",
       "    <tr>\n",
       "      <th>Male</th>\n",
       "      <td>84.027778</td>\n",
       "      <td>484</td>\n",
       "    </tr>\n",
       "    <tr>\n",
       "      <th>Other / Non-Disclosed</th>\n",
       "      <td>1.909722</td>\n",
       "      <td>11</td>\n",
       "    </tr>\n",
       "  </tbody>\n",
       "</table>\n",
       "</div>"
      ],
      "text/plain": [
       "                         Percent  Count of Gender\n",
       "Female                 14.062500               81\n",
       "Male                   84.027778              484\n",
       "Other / Non-Disclosed   1.909722               11"
      ]
     },
     "execution_count": 4,
     "metadata": {},
     "output_type": "execute_result"
    }
   ],
   "source": [
    "# Purchase Date by Gender\n",
    "genders_df = purchase_data_df.groupby(['Gender'])\n",
    "\n",
    "# Count Total SN's by Gender\n",
    "gender_count = genders_df.nunique()['SN']\n",
    "\n",
    "# Percentage Value / Total Players\n",
    "player_percentage = gender_count / total_players * 100\n",
    "\n",
    "# Display Data Frame Summary\n",
    "gender_demographics_df = pd.DataFrame({'Percent': player_percentage, 'Count of Gender': gender_count})\n",
    "\n",
    "# Sort Values & Format Percent\n",
    "gender_demographics_df.sort_values([\"Count of Gender\"], ascending = False).style.format({\"Percent\":\"{:.2f}%\"})\n",
    "\n",
    "# Format Column Title Name\n",
    "gender_demographics_df.index.name = None\n",
    "\n",
    "gender_demographics_df"
   ]
  },
  {
   "cell_type": "markdown",
   "metadata": {},
   "source": [
    "\n",
    "## Purchasing Analysis (Gender)"
   ]
  },
  {
   "cell_type": "markdown",
   "metadata": {},
   "source": [
    "* Run basic calculations to obtain purchase count, avg. purchase price, avg. purchase total per person etc. by gender\n",
    "\n",
    "\n",
    "\n",
    "\n",
    "* Create a summary data frame to hold the results\n",
    "\n",
    "\n",
    "* Optional: give the displayed data cleaner formatting\n",
    "\n",
    "\n",
    "* Display the summary data frame"
   ]
  },
  {
   "cell_type": "code",
   "execution_count": 5,
   "metadata": {},
   "outputs": [
    {
     "data": {
      "text/html": [
       "<style  type=\"text/css\" >\n",
       "</style><table id=\"T_842f7876_be87_11eb_84e7_d6c105df1562\" ><thead>    <tr>        <th class=\"blank level0\" ></th>        <th class=\"col_heading level0 col0\" >Purchase Count</th>        <th class=\"col_heading level0 col1\" >Average Purchase Price</th>        <th class=\"col_heading level0 col2\" >Total Purchase Value</th>        <th class=\"col_heading level0 col3\" >Average Purchase Total Per Person</th>    </tr>    <tr>        <th class=\"index_name level0\" >Gender</th>        <th class=\"blank\" ></th>        <th class=\"blank\" ></th>        <th class=\"blank\" ></th>        <th class=\"blank\" ></th>    </tr></thead><tbody>\n",
       "                <tr>\n",
       "                        <th id=\"T_842f7876_be87_11eb_84e7_d6c105df1562level0_row0\" class=\"row_heading level0 row0\" >Female</th>\n",
       "                        <td id=\"T_842f7876_be87_11eb_84e7_d6c105df1562row0_col0\" class=\"data row0 col0\" >113</td>\n",
       "                        <td id=\"T_842f7876_be87_11eb_84e7_d6c105df1562row0_col1\" class=\"data row0 col1\" >$3.20</td>\n",
       "                        <td id=\"T_842f7876_be87_11eb_84e7_d6c105df1562row0_col2\" class=\"data row0 col2\" >$361.94</td>\n",
       "                        <td id=\"T_842f7876_be87_11eb_84e7_d6c105df1562row0_col3\" class=\"data row0 col3\" >$4.47</td>\n",
       "            </tr>\n",
       "            <tr>\n",
       "                        <th id=\"T_842f7876_be87_11eb_84e7_d6c105df1562level0_row1\" class=\"row_heading level0 row1\" >Male</th>\n",
       "                        <td id=\"T_842f7876_be87_11eb_84e7_d6c105df1562row1_col0\" class=\"data row1 col0\" >652</td>\n",
       "                        <td id=\"T_842f7876_be87_11eb_84e7_d6c105df1562row1_col1\" class=\"data row1 col1\" >$3.02</td>\n",
       "                        <td id=\"T_842f7876_be87_11eb_84e7_d6c105df1562row1_col2\" class=\"data row1 col2\" >$1,967.64</td>\n",
       "                        <td id=\"T_842f7876_be87_11eb_84e7_d6c105df1562row1_col3\" class=\"data row1 col3\" >$4.07</td>\n",
       "            </tr>\n",
       "            <tr>\n",
       "                        <th id=\"T_842f7876_be87_11eb_84e7_d6c105df1562level0_row2\" class=\"row_heading level0 row2\" >Other / Non-Disclosed</th>\n",
       "                        <td id=\"T_842f7876_be87_11eb_84e7_d6c105df1562row2_col0\" class=\"data row2 col0\" >15</td>\n",
       "                        <td id=\"T_842f7876_be87_11eb_84e7_d6c105df1562row2_col1\" class=\"data row2 col1\" >$3.35</td>\n",
       "                        <td id=\"T_842f7876_be87_11eb_84e7_d6c105df1562row2_col2\" class=\"data row2 col2\" >$50.19</td>\n",
       "                        <td id=\"T_842f7876_be87_11eb_84e7_d6c105df1562row2_col3\" class=\"data row2 col3\" >$4.56</td>\n",
       "            </tr>\n",
       "    </tbody></table>"
      ],
      "text/plain": [
       "<pandas.io.formats.style.Styler at 0x1f4fe0fbca0>"
      ]
     },
     "execution_count": 5,
     "metadata": {},
     "output_type": "execute_result"
    }
   ],
   "source": [
    "# Calculate Purchase Count\n",
    "purchase_count = genders_df['Purchase ID'].count()\n",
    "\n",
    "# Calculate Average Purchase Price\n",
    "mean_purchase_price = genders_df['Price'].mean()\n",
    "\n",
    "# Calculate Total Purchase Value by Gender\n",
    "mean_purchase_total = genders_df['Price'].sum()\n",
    "\n",
    "# Calculate Average Purchase Total per Person by Gender\n",
    "average_purchase_per_person = mean_purchase_total / gender_count\n",
    "\n",
    "# Create Data Frame Summary\n",
    "gender_analysis = pd.DataFrame({'Purchase Count': purchase_count,\n",
    "                               'Average Purchase Price': mean_purchase_price,\n",
    "                               'Total Purchase Value': mean_purchase_total,\n",
    "                               'Average Purchase Total Per Person': average_purchase_per_person})\n",
    "# Create Column Title Name\n",
    "gender_analysis.index.name = \"Gender\"\n",
    "\n",
    "# Format Price & Round\n",
    "gender_analysis.style.format({\"Total Purchase Value\":\"${:,.2f}\",\n",
    "                                  \"Average Purchase Price\":\"${:,.2f}\",\n",
    "                                  \"Average Purchase Total Per Person\":\"${:,.2f}\"})"
   ]
  },
  {
   "cell_type": "markdown",
   "metadata": {},
   "source": [
    "## Age Demographics"
   ]
  },
  {
   "cell_type": "markdown",
   "metadata": {},
   "source": [
    "* Establish bins for ages\n",
    "\n",
    "\n",
    "* Categorize the existing players using the age bins. Hint: use pd.cut()\n",
    "\n",
    "\n",
    "* Calculate the numbers and percentages by age group\n",
    "\n",
    "\n",
    "* Create a summary data frame to hold the results\n",
    "\n",
    "\n",
    "* Optional: round the percentage column to two decimal points\n",
    "\n",
    "\n",
    "* Display Age Demographics Table\n"
   ]
  },
  {
   "cell_type": "code",
   "execution_count": 6,
   "metadata": {},
   "outputs": [
    {
     "data": {
      "text/html": [
       "<style  type=\"text/css\" >\n",
       "</style><table id=\"T_8433bf54_be87_11eb_83c7_d6c105df1562\" ><thead>    <tr>        <th class=\"blank level0\" ></th>        <th class=\"col_heading level0 col0\" >Percentage of Players</th>        <th class=\"col_heading level0 col1\" >Total Count</th>    </tr></thead><tbody>\n",
       "                <tr>\n",
       "                        <th id=\"T_8433bf54_be87_11eb_83c7_d6c105df1562level0_row0\" class=\"row_heading level0 row0\" ><10</th>\n",
       "                        <td id=\"T_8433bf54_be87_11eb_83c7_d6c105df1562row0_col0\" class=\"data row0 col0\" >2.95%</td>\n",
       "                        <td id=\"T_8433bf54_be87_11eb_83c7_d6c105df1562row0_col1\" class=\"data row0 col1\" >17</td>\n",
       "            </tr>\n",
       "            <tr>\n",
       "                        <th id=\"T_8433bf54_be87_11eb_83c7_d6c105df1562level0_row1\" class=\"row_heading level0 row1\" >10-14</th>\n",
       "                        <td id=\"T_8433bf54_be87_11eb_83c7_d6c105df1562row1_col0\" class=\"data row1 col0\" >3.82%</td>\n",
       "                        <td id=\"T_8433bf54_be87_11eb_83c7_d6c105df1562row1_col1\" class=\"data row1 col1\" >22</td>\n",
       "            </tr>\n",
       "            <tr>\n",
       "                        <th id=\"T_8433bf54_be87_11eb_83c7_d6c105df1562level0_row2\" class=\"row_heading level0 row2\" >15-19</th>\n",
       "                        <td id=\"T_8433bf54_be87_11eb_83c7_d6c105df1562row2_col0\" class=\"data row2 col0\" >18.58%</td>\n",
       "                        <td id=\"T_8433bf54_be87_11eb_83c7_d6c105df1562row2_col1\" class=\"data row2 col1\" >107</td>\n",
       "            </tr>\n",
       "            <tr>\n",
       "                        <th id=\"T_8433bf54_be87_11eb_83c7_d6c105df1562level0_row3\" class=\"row_heading level0 row3\" >20-24</th>\n",
       "                        <td id=\"T_8433bf54_be87_11eb_83c7_d6c105df1562row3_col0\" class=\"data row3 col0\" >44.79%</td>\n",
       "                        <td id=\"T_8433bf54_be87_11eb_83c7_d6c105df1562row3_col1\" class=\"data row3 col1\" >258</td>\n",
       "            </tr>\n",
       "            <tr>\n",
       "                        <th id=\"T_8433bf54_be87_11eb_83c7_d6c105df1562level0_row4\" class=\"row_heading level0 row4\" >25-29</th>\n",
       "                        <td id=\"T_8433bf54_be87_11eb_83c7_d6c105df1562row4_col0\" class=\"data row4 col0\" >13.37%</td>\n",
       "                        <td id=\"T_8433bf54_be87_11eb_83c7_d6c105df1562row4_col1\" class=\"data row4 col1\" >77</td>\n",
       "            </tr>\n",
       "            <tr>\n",
       "                        <th id=\"T_8433bf54_be87_11eb_83c7_d6c105df1562level0_row5\" class=\"row_heading level0 row5\" >30-34</th>\n",
       "                        <td id=\"T_8433bf54_be87_11eb_83c7_d6c105df1562row5_col0\" class=\"data row5 col0\" >9.03%</td>\n",
       "                        <td id=\"T_8433bf54_be87_11eb_83c7_d6c105df1562row5_col1\" class=\"data row5 col1\" >52</td>\n",
       "            </tr>\n",
       "            <tr>\n",
       "                        <th id=\"T_8433bf54_be87_11eb_83c7_d6c105df1562level0_row6\" class=\"row_heading level0 row6\" >35-39</th>\n",
       "                        <td id=\"T_8433bf54_be87_11eb_83c7_d6c105df1562row6_col0\" class=\"data row6 col0\" >5.38%</td>\n",
       "                        <td id=\"T_8433bf54_be87_11eb_83c7_d6c105df1562row6_col1\" class=\"data row6 col1\" >31</td>\n",
       "            </tr>\n",
       "            <tr>\n",
       "                        <th id=\"T_8433bf54_be87_11eb_83c7_d6c105df1562level0_row7\" class=\"row_heading level0 row7\" >40+</th>\n",
       "                        <td id=\"T_8433bf54_be87_11eb_83c7_d6c105df1562row7_col0\" class=\"data row7 col0\" >2.08%</td>\n",
       "                        <td id=\"T_8433bf54_be87_11eb_83c7_d6c105df1562row7_col1\" class=\"data row7 col1\" >12</td>\n",
       "            </tr>\n",
       "    </tbody></table>"
      ],
      "text/plain": [
       "<pandas.io.formats.style.Styler at 0x1f480224a60>"
      ]
     },
     "execution_count": 6,
     "metadata": {},
     "output_type": "execute_result"
    }
   ],
   "source": [
    "# Establish Bins for Ages\n",
    "age_bins = [0, 9.99, 14.99, 19.99, 24.99, 29.99, 34.99, 39.99, 500]\n",
    "labels = [\"<10\", \"10-14\", \"15-19\", \"20-24\", \"25-29\", \"30-34\", \"35-39\", \"40+\"]\n",
    "\n",
    "# Categorize Existing Players by Age Bins\n",
    "purchase_data_df['Age Group'] = pd.cut(purchase_data_df[\"Age\"], age_bins, labels=labels)\n",
    "\n",
    "# Group Data by Age Group\n",
    "age_bin_df = purchase_data_df.groupby('Age Group')\n",
    "\n",
    "# Categorize by Age Count\n",
    "age_count_categories = age_bin_df['SN'].nunique()\n",
    "\n",
    "# Calculate the Numbers & Percentages by Age Group\n",
    "age_percentage = (age_count_categories / total_players) * 100\n",
    "\n",
    "# Create Data Frame Summary\n",
    "age_demographics_df = pd.DataFrame({\"Percentage of Players\": age_percentage, 'Total Count': age_count_categories})\n",
    "\n",
    "# Create Column Title Name\n",
    "age_demographics_df.index.name = None\n",
    "\n",
    "# Format Percentage & Round \n",
    "age_demographics_df.style.format({'Percentage of Players': \"{:,.2f}%\"})"
   ]
  },
  {
   "cell_type": "code",
   "execution_count": null,
   "metadata": {},
   "outputs": [],
   "source": []
  },
  {
   "cell_type": "markdown",
   "metadata": {},
   "source": [
    "## Purchasing Analysis (Age)"
   ]
  },
  {
   "cell_type": "markdown",
   "metadata": {},
   "source": [
    "* Bin the purchase_data data frame by age\n",
    "\n",
    "\n",
    "* Run basic calculations to obtain purchase count, avg. purchase price, avg. purchase total per person etc. in the table below\n",
    "\n",
    "\n",
    "* Create a summary data frame to hold the results\n",
    "\n",
    "\n",
    "* Optional: give the displayed data cleaner formatting\n",
    "\n",
    "\n",
    "* Display the summary data frame"
   ]
  },
  {
   "cell_type": "code",
   "execution_count": 7,
   "metadata": {},
   "outputs": [
    {
     "data": {
      "text/html": [
       "<style  type=\"text/css\" >\n",
       "</style><table id=\"T_843608c8_be87_11eb_82f0_d6c105df1562\" ><thead>    <tr>        <th class=\"blank level0\" ></th>        <th class=\"col_heading level0 col0\" >Purchase Count</th>        <th class=\"col_heading level0 col1\" >Average Purchase Price</th>        <th class=\"col_heading level0 col2\" >Total Purchase Value</th>        <th class=\"col_heading level0 col3\" >Average Purchase Total Per Person</th>    </tr></thead><tbody>\n",
       "                <tr>\n",
       "                        <th id=\"T_843608c8_be87_11eb_82f0_d6c105df1562level0_row0\" class=\"row_heading level0 row0\" ><10</th>\n",
       "                        <td id=\"T_843608c8_be87_11eb_82f0_d6c105df1562row0_col0\" class=\"data row0 col0\" >23</td>\n",
       "                        <td id=\"T_843608c8_be87_11eb_82f0_d6c105df1562row0_col1\" class=\"data row0 col1\" >$3.35</td>\n",
       "                        <td id=\"T_843608c8_be87_11eb_82f0_d6c105df1562row0_col2\" class=\"data row0 col2\" >$77.13</td>\n",
       "                        <td id=\"T_843608c8_be87_11eb_82f0_d6c105df1562row0_col3\" class=\"data row0 col3\" >$4.54</td>\n",
       "            </tr>\n",
       "            <tr>\n",
       "                        <th id=\"T_843608c8_be87_11eb_82f0_d6c105df1562level0_row1\" class=\"row_heading level0 row1\" >10-14</th>\n",
       "                        <td id=\"T_843608c8_be87_11eb_82f0_d6c105df1562row1_col0\" class=\"data row1 col0\" >28</td>\n",
       "                        <td id=\"T_843608c8_be87_11eb_82f0_d6c105df1562row1_col1\" class=\"data row1 col1\" >$2.96</td>\n",
       "                        <td id=\"T_843608c8_be87_11eb_82f0_d6c105df1562row1_col2\" class=\"data row1 col2\" >$82.78</td>\n",
       "                        <td id=\"T_843608c8_be87_11eb_82f0_d6c105df1562row1_col3\" class=\"data row1 col3\" >$3.76</td>\n",
       "            </tr>\n",
       "            <tr>\n",
       "                        <th id=\"T_843608c8_be87_11eb_82f0_d6c105df1562level0_row2\" class=\"row_heading level0 row2\" >15-19</th>\n",
       "                        <td id=\"T_843608c8_be87_11eb_82f0_d6c105df1562row2_col0\" class=\"data row2 col0\" >136</td>\n",
       "                        <td id=\"T_843608c8_be87_11eb_82f0_d6c105df1562row2_col1\" class=\"data row2 col1\" >$3.04</td>\n",
       "                        <td id=\"T_843608c8_be87_11eb_82f0_d6c105df1562row2_col2\" class=\"data row2 col2\" >$412.89</td>\n",
       "                        <td id=\"T_843608c8_be87_11eb_82f0_d6c105df1562row2_col3\" class=\"data row2 col3\" >$3.86</td>\n",
       "            </tr>\n",
       "            <tr>\n",
       "                        <th id=\"T_843608c8_be87_11eb_82f0_d6c105df1562level0_row3\" class=\"row_heading level0 row3\" >20-24</th>\n",
       "                        <td id=\"T_843608c8_be87_11eb_82f0_d6c105df1562row3_col0\" class=\"data row3 col0\" >365</td>\n",
       "                        <td id=\"T_843608c8_be87_11eb_82f0_d6c105df1562row3_col1\" class=\"data row3 col1\" >$3.05</td>\n",
       "                        <td id=\"T_843608c8_be87_11eb_82f0_d6c105df1562row3_col2\" class=\"data row3 col2\" >$1,114.06</td>\n",
       "                        <td id=\"T_843608c8_be87_11eb_82f0_d6c105df1562row3_col3\" class=\"data row3 col3\" >$4.32</td>\n",
       "            </tr>\n",
       "            <tr>\n",
       "                        <th id=\"T_843608c8_be87_11eb_82f0_d6c105df1562level0_row4\" class=\"row_heading level0 row4\" >25-29</th>\n",
       "                        <td id=\"T_843608c8_be87_11eb_82f0_d6c105df1562row4_col0\" class=\"data row4 col0\" >101</td>\n",
       "                        <td id=\"T_843608c8_be87_11eb_82f0_d6c105df1562row4_col1\" class=\"data row4 col1\" >$2.90</td>\n",
       "                        <td id=\"T_843608c8_be87_11eb_82f0_d6c105df1562row4_col2\" class=\"data row4 col2\" >$293.00</td>\n",
       "                        <td id=\"T_843608c8_be87_11eb_82f0_d6c105df1562row4_col3\" class=\"data row4 col3\" >$3.81</td>\n",
       "            </tr>\n",
       "            <tr>\n",
       "                        <th id=\"T_843608c8_be87_11eb_82f0_d6c105df1562level0_row5\" class=\"row_heading level0 row5\" >30-34</th>\n",
       "                        <td id=\"T_843608c8_be87_11eb_82f0_d6c105df1562row5_col0\" class=\"data row5 col0\" >73</td>\n",
       "                        <td id=\"T_843608c8_be87_11eb_82f0_d6c105df1562row5_col1\" class=\"data row5 col1\" >$2.93</td>\n",
       "                        <td id=\"T_843608c8_be87_11eb_82f0_d6c105df1562row5_col2\" class=\"data row5 col2\" >$214.00</td>\n",
       "                        <td id=\"T_843608c8_be87_11eb_82f0_d6c105df1562row5_col3\" class=\"data row5 col3\" >$4.12</td>\n",
       "            </tr>\n",
       "            <tr>\n",
       "                        <th id=\"T_843608c8_be87_11eb_82f0_d6c105df1562level0_row6\" class=\"row_heading level0 row6\" >35-39</th>\n",
       "                        <td id=\"T_843608c8_be87_11eb_82f0_d6c105df1562row6_col0\" class=\"data row6 col0\" >41</td>\n",
       "                        <td id=\"T_843608c8_be87_11eb_82f0_d6c105df1562row6_col1\" class=\"data row6 col1\" >$3.60</td>\n",
       "                        <td id=\"T_843608c8_be87_11eb_82f0_d6c105df1562row6_col2\" class=\"data row6 col2\" >$147.67</td>\n",
       "                        <td id=\"T_843608c8_be87_11eb_82f0_d6c105df1562row6_col3\" class=\"data row6 col3\" >$4.76</td>\n",
       "            </tr>\n",
       "            <tr>\n",
       "                        <th id=\"T_843608c8_be87_11eb_82f0_d6c105df1562level0_row7\" class=\"row_heading level0 row7\" >40+</th>\n",
       "                        <td id=\"T_843608c8_be87_11eb_82f0_d6c105df1562row7_col0\" class=\"data row7 col0\" >13</td>\n",
       "                        <td id=\"T_843608c8_be87_11eb_82f0_d6c105df1562row7_col1\" class=\"data row7 col1\" >$2.94</td>\n",
       "                        <td id=\"T_843608c8_be87_11eb_82f0_d6c105df1562row7_col2\" class=\"data row7 col2\" >$38.24</td>\n",
       "                        <td id=\"T_843608c8_be87_11eb_82f0_d6c105df1562row7_col3\" class=\"data row7 col3\" >$3.19</td>\n",
       "            </tr>\n",
       "    </tbody></table>"
      ],
      "text/plain": [
       "<pandas.io.formats.style.Styler at 0x1f48139a040>"
      ]
     },
     "execution_count": 7,
     "metadata": {},
     "output_type": "execute_result"
    }
   ],
   "source": [
    "# Find Purchase Count by Age Group\n",
    "purchase_count_age = age_bin_df[\"Purchase ID\"].count()\n",
    "\n",
    "# Find Average Purchase Price by Age Group\n",
    "mean_purchase_price_age = age_bin_df[\"Price\"].mean()\n",
    "\n",
    "# Calculate Total Purchase Value by Age Group\n",
    "total_purchase_value = age_bin_df[\"Price\"].sum()\n",
    "\n",
    "# Calculate the Average Purchase Price Per Person in the Age Group\n",
    "mean_purchase_per_person_age = total_purchase_value/age_count_categories\n",
    "\n",
    "# Create Data Frame Summary\n",
    "age_demographics = pd.DataFrame({\"Purchase Count\": purchase_count_age,\n",
    "                                 \"Average Purchase Price\": mean_purchase_price_age,\n",
    "                                 \"Total Purchase Value\":total_purchase_value,\n",
    "                                 \"Average Purchase Total Per Person\": mean_purchase_per_person_age})\n",
    "\n",
    "# Format Column Title Name\n",
    "age_demographics.index.name = None\n",
    "\n",
    "# Format Price & Round\n",
    "age_demographics.style.format({\"Average Purchase Price\":\"${:,.2f}\",\n",
    "                               \"Total Purchase Value\":\"${:,.2f}\",\n",
    "                               \"Average Purchase Total Per Person\":\"${:,.2f}\"})\n"
   ]
  },
  {
   "cell_type": "markdown",
   "metadata": {},
   "source": [
    "## Top Spenders"
   ]
  },
  {
   "cell_type": "markdown",
   "metadata": {},
   "source": [
    "* Run basic calculations to obtain the results in the table below\n",
    "\n",
    "\n",
    "* Create a summary data frame to hold the results\n",
    "\n",
    "\n",
    "* Sort the total purchase value column in descending order\n",
    "\n",
    "\n",
    "* Optional: give the displayed data cleaner formatting\n",
    "\n",
    "\n",
    "* Display a preview of the summary data frame\n",
    "\n"
   ]
  },
  {
   "cell_type": "code",
   "execution_count": 8,
   "metadata": {},
   "outputs": [
    {
     "data": {
      "text/html": [
       "<style  type=\"text/css\" >\n",
       "</style><table id=\"T_8438c60b_be87_11eb_90a5_d6c105df1562\" ><thead>    <tr>        <th class=\"blank level0\" ></th>        <th class=\"col_heading level0 col0\" >Purchase Count</th>        <th class=\"col_heading level0 col1\" >Average Purchase Price</th>        <th class=\"col_heading level0 col2\" >Total Purchase Value</th>    </tr>    <tr>        <th class=\"index_name level0\" >SN</th>        <th class=\"blank\" ></th>        <th class=\"blank\" ></th>        <th class=\"blank\" ></th>    </tr></thead><tbody>\n",
       "                <tr>\n",
       "                        <th id=\"T_8438c60b_be87_11eb_90a5_d6c105df1562level0_row0\" class=\"row_heading level0 row0\" >Lisosia93</th>\n",
       "                        <td id=\"T_8438c60b_be87_11eb_90a5_d6c105df1562row0_col0\" class=\"data row0 col0\" >5</td>\n",
       "                        <td id=\"T_8438c60b_be87_11eb_90a5_d6c105df1562row0_col1\" class=\"data row0 col1\" >$3.79</td>\n",
       "                        <td id=\"T_8438c60b_be87_11eb_90a5_d6c105df1562row0_col2\" class=\"data row0 col2\" >$18.96</td>\n",
       "            </tr>\n",
       "            <tr>\n",
       "                        <th id=\"T_8438c60b_be87_11eb_90a5_d6c105df1562level0_row1\" class=\"row_heading level0 row1\" >Idastidru52</th>\n",
       "                        <td id=\"T_8438c60b_be87_11eb_90a5_d6c105df1562row1_col0\" class=\"data row1 col0\" >4</td>\n",
       "                        <td id=\"T_8438c60b_be87_11eb_90a5_d6c105df1562row1_col1\" class=\"data row1 col1\" >$3.86</td>\n",
       "                        <td id=\"T_8438c60b_be87_11eb_90a5_d6c105df1562row1_col2\" class=\"data row1 col2\" >$15.45</td>\n",
       "            </tr>\n",
       "            <tr>\n",
       "                        <th id=\"T_8438c60b_be87_11eb_90a5_d6c105df1562level0_row2\" class=\"row_heading level0 row2\" >Chamjask73</th>\n",
       "                        <td id=\"T_8438c60b_be87_11eb_90a5_d6c105df1562row2_col0\" class=\"data row2 col0\" >3</td>\n",
       "                        <td id=\"T_8438c60b_be87_11eb_90a5_d6c105df1562row2_col1\" class=\"data row2 col1\" >$4.61</td>\n",
       "                        <td id=\"T_8438c60b_be87_11eb_90a5_d6c105df1562row2_col2\" class=\"data row2 col2\" >$13.83</td>\n",
       "            </tr>\n",
       "            <tr>\n",
       "                        <th id=\"T_8438c60b_be87_11eb_90a5_d6c105df1562level0_row3\" class=\"row_heading level0 row3\" >Iral74</th>\n",
       "                        <td id=\"T_8438c60b_be87_11eb_90a5_d6c105df1562row3_col0\" class=\"data row3 col0\" >4</td>\n",
       "                        <td id=\"T_8438c60b_be87_11eb_90a5_d6c105df1562row3_col1\" class=\"data row3 col1\" >$3.40</td>\n",
       "                        <td id=\"T_8438c60b_be87_11eb_90a5_d6c105df1562row3_col2\" class=\"data row3 col2\" >$13.62</td>\n",
       "            </tr>\n",
       "            <tr>\n",
       "                        <th id=\"T_8438c60b_be87_11eb_90a5_d6c105df1562level0_row4\" class=\"row_heading level0 row4\" >Iskadarya95</th>\n",
       "                        <td id=\"T_8438c60b_be87_11eb_90a5_d6c105df1562row4_col0\" class=\"data row4 col0\" >3</td>\n",
       "                        <td id=\"T_8438c60b_be87_11eb_90a5_d6c105df1562row4_col1\" class=\"data row4 col1\" >$4.37</td>\n",
       "                        <td id=\"T_8438c60b_be87_11eb_90a5_d6c105df1562row4_col2\" class=\"data row4 col2\" >$13.10</td>\n",
       "            </tr>\n",
       "    </tbody></table>"
      ],
      "text/plain": [
       "<pandas.io.formats.style.Styler at 0x1f481461850>"
      ]
     },
     "execution_count": 8,
     "metadata": {},
     "output_type": "execute_result"
    }
   ],
   "source": [
    "# Group Data by SN's\n",
    "sn_grouped = purchase_data_df.groupby('SN')\n",
    "\n",
    "# Count Total Purchases\n",
    "purchase_count_sn = sn_grouped['Purchase ID'].count()\n",
    "\n",
    "# Calculate Mean by SN's\n",
    "mean_purchase_price_sn = sn_grouped['Price'].mean()\n",
    "\n",
    "# Calculate Purchase Total\n",
    "purchase_total_sn = sn_grouped['Price'].sum()\n",
    "\n",
    "# Calculate Data Frame (from Above)\n",
    "top_spenders_df = pd.DataFrame({'Purchase Count': purchase_count_sn, \n",
    "                               'Average Purchase Price': mean_purchase_price_sn,\n",
    "                               'Total Purchase Value': purchase_total_sn})\n",
    "\n",
    "# Sort Total Purchase Value\n",
    "formatted_top_spenders_df = top_spenders_df.sort_values([\"Total Purchase Value\"], ascending=False).head()\n",
    "\n",
    "# Format & Round Price\n",
    "formatted_top_spenders_df.style.format({\"Average Purchase Total\":\"${:,.2f}\",\n",
    "                                 \"Average Purchase Price\":\"${:,.2f}\", \n",
    "                                 \"Total Purchase Value\":\"${:,.2f}\"})"
   ]
  },
  {
   "cell_type": "markdown",
   "metadata": {},
   "source": [
    "## Most Popular Items"
   ]
  },
  {
   "cell_type": "markdown",
   "metadata": {},
   "source": [
    "* Retrieve the Item ID, Item Name, and Item Price columns\n",
    "\n",
    "\n",
    "* Group by Item ID and Item Name. Perform calculations to obtain purchase count, average item price, and total purchase value\n",
    "\n",
    "\n",
    "* Create a summary data frame to hold the results\n",
    "\n",
    "\n",
    "* Sort the purchase count column in descending order\n",
    "\n",
    "\n",
    "* Optional: give the displayed data cleaner formatting\n",
    "\n",
    "\n",
    "* Display a preview of the summary data frame\n",
    "\n"
   ]
  },
  {
   "cell_type": "code",
   "execution_count": 9,
   "metadata": {},
   "outputs": [
    {
     "data": {
      "text/html": [
       "<style  type=\"text/css\" >\n",
       "</style><table id=\"T_843b5b4b_be87_11eb_aa9c_d6c105df1562\" ><thead>    <tr>        <th class=\"blank\" ></th>        <th class=\"blank level0\" ></th>        <th class=\"col_heading level0 col0\" >Purchase Count</th>        <th class=\"col_heading level0 col1\" >Item Price</th>        <th class=\"col_heading level0 col2\" >Total Purchase Value</th>    </tr>    <tr>        <th class=\"index_name level0\" >Item ID</th>        <th class=\"index_name level1\" >Item Name</th>        <th class=\"blank\" ></th>        <th class=\"blank\" ></th>        <th class=\"blank\" ></th>    </tr></thead><tbody>\n",
       "                <tr>\n",
       "                        <th id=\"T_843b5b4b_be87_11eb_aa9c_d6c105df1562level0_row0\" class=\"row_heading level0 row0\" >92</th>\n",
       "                        <th id=\"T_843b5b4b_be87_11eb_aa9c_d6c105df1562level1_row0\" class=\"row_heading level1 row0\" >Final Critic</th>\n",
       "                        <td id=\"T_843b5b4b_be87_11eb_aa9c_d6c105df1562row0_col0\" class=\"data row0 col0\" >13</td>\n",
       "                        <td id=\"T_843b5b4b_be87_11eb_aa9c_d6c105df1562row0_col1\" class=\"data row0 col1\" >$4.61</td>\n",
       "                        <td id=\"T_843b5b4b_be87_11eb_aa9c_d6c105df1562row0_col2\" class=\"data row0 col2\" >$59.99</td>\n",
       "            </tr>\n",
       "            <tr>\n",
       "                        <th id=\"T_843b5b4b_be87_11eb_aa9c_d6c105df1562level0_row1\" class=\"row_heading level0 row1\" >178</th>\n",
       "                        <th id=\"T_843b5b4b_be87_11eb_aa9c_d6c105df1562level1_row1\" class=\"row_heading level1 row1\" >Oathbreaker, Last Hope of the Breaking Storm</th>\n",
       "                        <td id=\"T_843b5b4b_be87_11eb_aa9c_d6c105df1562row1_col0\" class=\"data row1 col0\" >12</td>\n",
       "                        <td id=\"T_843b5b4b_be87_11eb_aa9c_d6c105df1562row1_col1\" class=\"data row1 col1\" >$4.23</td>\n",
       "                        <td id=\"T_843b5b4b_be87_11eb_aa9c_d6c105df1562row1_col2\" class=\"data row1 col2\" >$50.76</td>\n",
       "            </tr>\n",
       "            <tr>\n",
       "                        <th id=\"T_843b5b4b_be87_11eb_aa9c_d6c105df1562level0_row2\" class=\"row_heading level0 row2\" >145</th>\n",
       "                        <th id=\"T_843b5b4b_be87_11eb_aa9c_d6c105df1562level1_row2\" class=\"row_heading level1 row2\" >Fiery Glass Crusader</th>\n",
       "                        <td id=\"T_843b5b4b_be87_11eb_aa9c_d6c105df1562row2_col0\" class=\"data row2 col0\" >9</td>\n",
       "                        <td id=\"T_843b5b4b_be87_11eb_aa9c_d6c105df1562row2_col1\" class=\"data row2 col1\" >$4.58</td>\n",
       "                        <td id=\"T_843b5b4b_be87_11eb_aa9c_d6c105df1562row2_col2\" class=\"data row2 col2\" >$41.22</td>\n",
       "            </tr>\n",
       "            <tr>\n",
       "                        <th id=\"T_843b5b4b_be87_11eb_aa9c_d6c105df1562level0_row3\" class=\"row_heading level0 row3\" >132</th>\n",
       "                        <th id=\"T_843b5b4b_be87_11eb_aa9c_d6c105df1562level1_row3\" class=\"row_heading level1 row3\" >Persuasion</th>\n",
       "                        <td id=\"T_843b5b4b_be87_11eb_aa9c_d6c105df1562row3_col0\" class=\"data row3 col0\" >9</td>\n",
       "                        <td id=\"T_843b5b4b_be87_11eb_aa9c_d6c105df1562row3_col1\" class=\"data row3 col1\" >$3.22</td>\n",
       "                        <td id=\"T_843b5b4b_be87_11eb_aa9c_d6c105df1562row3_col2\" class=\"data row3 col2\" >$28.99</td>\n",
       "            </tr>\n",
       "            <tr>\n",
       "                        <th id=\"T_843b5b4b_be87_11eb_aa9c_d6c105df1562level0_row4\" class=\"row_heading level0 row4\" >108</th>\n",
       "                        <th id=\"T_843b5b4b_be87_11eb_aa9c_d6c105df1562level1_row4\" class=\"row_heading level1 row4\" >Extraction, Quickblade Of Trembling Hands</th>\n",
       "                        <td id=\"T_843b5b4b_be87_11eb_aa9c_d6c105df1562row4_col0\" class=\"data row4 col0\" >9</td>\n",
       "                        <td id=\"T_843b5b4b_be87_11eb_aa9c_d6c105df1562row4_col1\" class=\"data row4 col1\" >$3.53</td>\n",
       "                        <td id=\"T_843b5b4b_be87_11eb_aa9c_d6c105df1562row4_col2\" class=\"data row4 col2\" >$31.77</td>\n",
       "            </tr>\n",
       "    </tbody></table>"
      ],
      "text/plain": [
       "<pandas.io.formats.style.Styler at 0x1f4fe10d0a0>"
      ]
     },
     "execution_count": 9,
     "metadata": {},
     "output_type": "execute_result"
    }
   ],
   "source": [
    "# Create Column Titles\n",
    "items_df = purchase_data_df[['Item ID', 'Item Name', 'Price']]\n",
    "\n",
    "# Group by Item ID & Item Name\n",
    "items_grouped = items_df.groupby(['Item ID', 'Item Name'])\n",
    "\n",
    "# Calculate for Purchase Count, Average Item Price, and Total Purchase Value\n",
    "item_purchases = items_grouped['Price'].count()\n",
    "purchase_value = items_grouped['Price'].sum()\n",
    "item_price = purchase_value/item_purchases\n",
    "\n",
    "# Create Data Frame Summary\n",
    "popular_items_df = pd.DataFrame({'Purchase Count': item_purchases,\n",
    "                                'Item Price': item_price,\n",
    "                                'Total Purchase Value': purchase_value})\n",
    "# Sort Purchase Count Column\n",
    "popular_items_formatted = popular_items_df.sort_values([\"Purchase Count\"], ascending=False).head()\n",
    "\n",
    "# Format & Round Price\n",
    "popular_items_formatted.style.format({\"Item Price\":\"${:,.2f}\",\n",
    "                                    \"Total Purchase Value\":\"${:,.2f}\"})"
   ]
  },
  {
   "cell_type": "markdown",
   "metadata": {},
   "source": [
    "## Most Profitable Items"
   ]
  },
  {
   "cell_type": "markdown",
   "metadata": {},
   "source": [
    "* Sort the above table by total purchase value in descending order\n",
    "\n",
    "\n",
    "* Optional: give the displayed data cleaner formatting\n",
    "\n",
    "\n",
    "* Display a preview of the data frame\n",
    "\n"
   ]
  },
  {
   "cell_type": "code",
   "execution_count": 10,
   "metadata": {
    "scrolled": true
   },
   "outputs": [
    {
     "data": {
      "text/html": [
       "<style  type=\"text/css\" >\n",
       "</style><table id=\"T_843fb013_be87_11eb_a6bd_d6c105df1562\" ><thead>    <tr>        <th class=\"blank\" ></th>        <th class=\"blank level0\" ></th>        <th class=\"col_heading level0 col0\" >Purchase Count</th>        <th class=\"col_heading level0 col1\" >Item Price</th>        <th class=\"col_heading level0 col2\" >Total Purchase Value</th>    </tr>    <tr>        <th class=\"index_name level0\" >Item ID</th>        <th class=\"index_name level1\" >Item Name</th>        <th class=\"blank\" ></th>        <th class=\"blank\" ></th>        <th class=\"blank\" ></th>    </tr></thead><tbody>\n",
       "                <tr>\n",
       "                        <th id=\"T_843fb013_be87_11eb_a6bd_d6c105df1562level0_row0\" class=\"row_heading level0 row0\" >92</th>\n",
       "                        <th id=\"T_843fb013_be87_11eb_a6bd_d6c105df1562level1_row0\" class=\"row_heading level1 row0\" >Final Critic</th>\n",
       "                        <td id=\"T_843fb013_be87_11eb_a6bd_d6c105df1562row0_col0\" class=\"data row0 col0\" >13</td>\n",
       "                        <td id=\"T_843fb013_be87_11eb_a6bd_d6c105df1562row0_col1\" class=\"data row0 col1\" >$4.61</td>\n",
       "                        <td id=\"T_843fb013_be87_11eb_a6bd_d6c105df1562row0_col2\" class=\"data row0 col2\" >$59.99</td>\n",
       "            </tr>\n",
       "            <tr>\n",
       "                        <th id=\"T_843fb013_be87_11eb_a6bd_d6c105df1562level0_row1\" class=\"row_heading level0 row1\" >178</th>\n",
       "                        <th id=\"T_843fb013_be87_11eb_a6bd_d6c105df1562level1_row1\" class=\"row_heading level1 row1\" >Oathbreaker, Last Hope of the Breaking Storm</th>\n",
       "                        <td id=\"T_843fb013_be87_11eb_a6bd_d6c105df1562row1_col0\" class=\"data row1 col0\" >12</td>\n",
       "                        <td id=\"T_843fb013_be87_11eb_a6bd_d6c105df1562row1_col1\" class=\"data row1 col1\" >$4.23</td>\n",
       "                        <td id=\"T_843fb013_be87_11eb_a6bd_d6c105df1562row1_col2\" class=\"data row1 col2\" >$50.76</td>\n",
       "            </tr>\n",
       "            <tr>\n",
       "                        <th id=\"T_843fb013_be87_11eb_a6bd_d6c105df1562level0_row2\" class=\"row_heading level0 row2\" >145</th>\n",
       "                        <th id=\"T_843fb013_be87_11eb_a6bd_d6c105df1562level1_row2\" class=\"row_heading level1 row2\" >Fiery Glass Crusader</th>\n",
       "                        <td id=\"T_843fb013_be87_11eb_a6bd_d6c105df1562row2_col0\" class=\"data row2 col0\" >9</td>\n",
       "                        <td id=\"T_843fb013_be87_11eb_a6bd_d6c105df1562row2_col1\" class=\"data row2 col1\" >$4.58</td>\n",
       "                        <td id=\"T_843fb013_be87_11eb_a6bd_d6c105df1562row2_col2\" class=\"data row2 col2\" >$41.22</td>\n",
       "            </tr>\n",
       "            <tr>\n",
       "                        <th id=\"T_843fb013_be87_11eb_a6bd_d6c105df1562level0_row3\" class=\"row_heading level0 row3\" >108</th>\n",
       "                        <th id=\"T_843fb013_be87_11eb_a6bd_d6c105df1562level1_row3\" class=\"row_heading level1 row3\" >Extraction, Quickblade Of Trembling Hands</th>\n",
       "                        <td id=\"T_843fb013_be87_11eb_a6bd_d6c105df1562row3_col0\" class=\"data row3 col0\" >9</td>\n",
       "                        <td id=\"T_843fb013_be87_11eb_a6bd_d6c105df1562row3_col1\" class=\"data row3 col1\" >$3.53</td>\n",
       "                        <td id=\"T_843fb013_be87_11eb_a6bd_d6c105df1562row3_col2\" class=\"data row3 col2\" >$31.77</td>\n",
       "            </tr>\n",
       "            <tr>\n",
       "                        <th id=\"T_843fb013_be87_11eb_a6bd_d6c105df1562level0_row4\" class=\"row_heading level0 row4\" >132</th>\n",
       "                        <th id=\"T_843fb013_be87_11eb_a6bd_d6c105df1562level1_row4\" class=\"row_heading level1 row4\" >Persuasion</th>\n",
       "                        <td id=\"T_843fb013_be87_11eb_a6bd_d6c105df1562row4_col0\" class=\"data row4 col0\" >9</td>\n",
       "                        <td id=\"T_843fb013_be87_11eb_a6bd_d6c105df1562row4_col1\" class=\"data row4 col1\" >$3.22</td>\n",
       "                        <td id=\"T_843fb013_be87_11eb_a6bd_d6c105df1562row4_col2\" class=\"data row4 col2\" >$28.99</td>\n",
       "            </tr>\n",
       "    </tbody></table>"
      ],
      "text/plain": [
       "<pandas.io.formats.style.Styler at 0x1f481461430>"
      ]
     },
     "execution_count": 10,
     "metadata": {},
     "output_type": "execute_result"
    }
   ],
   "source": [
    "# Sort by Total Purchase Value\n",
    "profitable_formatted = popular_items_formatted.sort_values(['Total Purchase Value'], ascending=False).head()\n",
    "\n",
    "# Format & Round Price\n",
    "profitable_formatted.style.format({'Item Price': '${:,.2f}',\n",
    "                                  'Total Purchase Value': '${:,.2f}'})"
   ]
  },
  {
   "cell_type": "markdown",
   "metadata": {},
   "source": [
    "# Observable Trends Based on the Data"
   ]
  },
  {
   "cell_type": "markdown",
   "metadata": {},
   "source": [
    "* There are a total of 576 players. The vast majority are male (84%). Notably, there is a much smaller proportion of female players at (14%).\n",
    "* The biggest group of players are in the 20-24 age range, representing close to about 45% of that age demographic. This age group also makes up the biggest group of spenders followed by the 15-19 year olds.\n",
    "* The most popular and most profitable at $59.99 was the game Final Critic."
   ]
  },
  {
   "cell_type": "code",
   "execution_count": null,
   "metadata": {},
   "outputs": [],
   "source": []
  }
 ],
 "metadata": {
  "anaconda-cloud": {},
  "kernel_info": {
   "name": "python3"
  },
  "kernelspec": {
   "display_name": "Python 3",
   "language": "python",
   "name": "python3"
  },
  "language_info": {
   "codemirror_mode": {
    "name": "ipython",
    "version": 3
   },
   "file_extension": ".py",
   "mimetype": "text/x-python",
   "name": "python",
   "nbconvert_exporter": "python",
   "pygments_lexer": "ipython3",
   "version": "3.8.5"
  },
  "latex_envs": {
   "LaTeX_envs_menu_present": true,
   "autoclose": false,
   "autocomplete": true,
   "bibliofile": "biblio.bib",
   "cite_by": "apalike",
   "current_citInitial": 1,
   "eqLabelWithNumbers": true,
   "eqNumInitial": 1,
   "hotkeys": {
    "equation": "Ctrl-E",
    "itemize": "Ctrl-I"
   },
   "labels_anchors": false,
   "latex_user_defs": false,
   "report_style_numbering": false,
   "user_envs_cfg": false
  },
  "nteract": {
   "version": "0.2.0"
  }
 },
 "nbformat": 4,
 "nbformat_minor": 2
}
